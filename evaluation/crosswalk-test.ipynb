{
 "cells": [
  {
   "cell_type": "markdown",
   "metadata": {},
   "source": [
    "## Crosswalk Model Annotation Tool"
   ]
  },
  {
   "cell_type": "markdown",
   "metadata": {},
   "source": [
    "### Imports"
   ]
  },
  {
   "cell_type": "code",
   "execution_count": 1,
   "metadata": {},
   "outputs": [],
   "source": [
    "import glob, os\n",
    "import time\n",
    "import tensorflow as tf\n",
    "from object_detection.utils import label_map_util\n",
    "from object_detection.utils import visualization_utils as viz_utils\n",
    "import numpy as np\n",
    "from PIL import Image\n",
    "import matplotlib as mpl\n",
    "import cv2\n",
    "\n",
    "mpl.use('Agg')\n",
    "import matplotlib.pyplot as plt"
   ]
  },
  {
   "cell_type": "markdown",
   "metadata": {},
   "source": [
    "### Setup Config"
   ]
  },
  {
   "cell_type": "code",
   "execution_count": 2,
   "metadata": {},
   "outputs": [],
   "source": [
    "# Image Locations\n",
    "image_directory = './test_set'\n",
    "# image_directory = '/Users/john/Documents/brown/csci1470/final-project/training/workspace/crosswalks/images/test'\n",
    "\n",
    "\n",
    "# Save Annotations\n",
    "save_directory = './test_annotated'\n",
    "# save_directory = '/Users/john/Documents/brown/csci1470/final-project/training/workspace/crosswalks/images/test_annotated/'\n",
    "\n",
    "# Labels\n",
    "label_path = '../training/workspace/crosswalks/annotations/label_map.pbtxt'\n",
    "# label_path = '/Users/john/Documents/brown/csci1470/final-project/training/workspace/crosswalks/annotations/label_map.pbtxt'\n",
    "category_index = label_map_util.create_category_index_from_labelmap(label_path, use_display_name=True)\n",
    "\n",
    "# Image Resize Function\n",
    "def resize_image(image):\n",
    "    return cv2.resize(image, dsize=(640, 640), interpolation=cv2.INTER_CUBIC)\n",
    "\n",
    "# Load Image Function\n",
    "def load_image_into_numpy_array(path):\n",
    "    image_np = np.array(Image.open(path))\n",
    "\n",
    "    if image_np.shape != (640, 640):\n",
    "        image_np = resize_image(image_np)\n",
    "        \n",
    "    return image_np"
   ]
  },
  {
   "cell_type": "markdown",
   "metadata": {},
   "source": [
    "### Load the Model"
   ]
  },
  {
   "cell_type": "code",
   "execution_count": 3,
   "metadata": {},
   "outputs": [
    {
     "name": "stdout",
     "output_type": "stream",
     "text": [
      "Loading model..."
     ]
    },
    {
     "name": "stderr",
     "output_type": "stream",
     "text": [
      "2022-12-10 14:58:43.288462: I tensorflow/core/platform/cpu_feature_guard.cc:142] This TensorFlow binary is optimized with oneAPI Deep Neural Network Library (oneDNN) to use the following CPU instructions in performance-critical operations:  AVX2 FMA\n",
      "To enable them in other operations, rebuild TensorFlow with the appropriate compiler flags.\n"
     ]
    },
    {
     "name": "stdout",
     "output_type": "stream",
     "text": [
      "Done! Took 7.705033779144287 seconds\n"
     ]
    }
   ],
   "source": [
    "# Model Location\n",
    "saved_model = '../training/workspace/crosswalks/exported-models/ssd_mobilenet_v2_fpnlite_640x640_7' + \"/saved_model\"\n",
    "\n",
    "print('Loading model...', end='')\n",
    "start_time = time.time()\n",
    "\n",
    "# Load saved model and build the detection function\n",
    "detect_fn = tf.saved_model.load(saved_model)\n",
    "\n",
    "end_time = time.time()\n",
    "elapsed_time = end_time - start_time\n",
    "print('Done! Took {} seconds'.format(elapsed_time))"
   ]
  },
  {
   "cell_type": "markdown",
   "metadata": {},
   "source": [
    "### Run the Annotations"
   ]
  },
  {
   "cell_type": "code",
   "execution_count": 5,
   "metadata": {},
   "outputs": [
    {
     "name": "stdout",
     "output_type": "stream",
     "text": [
      "Running inference for ./crosswalk-test-set/19_03_57_778197.jpg... Running inference for ./crosswalk-test-set/download.jpg... Running inference for ./crosswalk-test-set/test5.jpg... Running inference for ./crosswalk-test-set/test4.jpg... Running inference for ./crosswalk-test-set/test1.jpg... Running inference for ./crosswalk-test-set/test3.jpg... Running inference for ./crosswalk-test-set/test2.jpg... Running inference for ./crosswalk-test-set/test.jpg... Running inference for ./crosswalk-test-set/cross.jpg... "
     ]
    }
   ],
   "source": [
    "# Load images\n",
    "image_paths = glob.glob(os.path.join(image_directory, '*.jpg'))\n",
    "\n",
    "for image_path in image_paths:\n",
    "    print('Running inference for {}... '.format(image_path), end='')\n",
    "\n",
    "    image_np = load_image_into_numpy_array(image_path)\n",
    "\n",
    "    # The input needs to be a tensor, convert it using `tf.convert_to_tensor`.\n",
    "    input_tensor = tf.convert_to_tensor(image_np)\n",
    "    # The model expects a batch of images, so add an axis with `tf.newaxis`.\n",
    "    input_tensor = input_tensor[tf.newaxis, ...]\n",
    "\n",
    "    # input_tensor = np.expand_dims(image_np, 0)\n",
    "    detections = detect_fn(input_tensor)\n",
    "\n",
    "    # All outputs are batches tensors.\n",
    "    # Convert to numpy arrays, and take index [0] to remove the batch dimension.\n",
    "    # We're only interested in the first num_detections.\n",
    "    num_detections = int(detections.pop('num_detections'))\n",
    "    detections = {\n",
    "        key: value[0, :num_detections].numpy()\n",
    "        for key, value in detections.items()\n",
    "    }\n",
    "    detections['num_detections'] = num_detections\n",
    "\n",
    "    # detection_classes should be ints.\n",
    "    detections['detection_classes'] = detections['detection_classes'].astype(\n",
    "        np.int64)\n",
    "\n",
    "    image_np_with_detections = image_np.copy()\n",
    "\n",
    "    viz_utils.visualize_boxes_and_labels_on_image_array(\n",
    "        image_np_with_detections,\n",
    "        detections['detection_boxes'],\n",
    "        detections['detection_classes'],\n",
    "        detections['detection_scores'],\n",
    "        category_index,\n",
    "        use_normalized_coordinates=True,\n",
    "        max_boxes_to_draw=200,\n",
    "        min_score_thresh=.20,\n",
    "        agnostic_mode=False)\n",
    "\n",
    "    plt.figure(figsize=(10, 10))\n",
    "    plt.imshow(image_np_with_detections)\n",
    "\n",
    "    (filepath, filename) = os.path.split(image_path)\n",
    "    if not os.path.exists(save_directory):\n",
    "        os.makedirs(save_directory)\n",
    "    save_path = os.path.join(save_directory, filename)\n",
    "    plt.savefig(save_path)"
   ]
  }
 ],
 "metadata": {
  "kernelspec": {
   "display_name": "Python 3.9.13 64-bit",
   "language": "python",
   "name": "python3"
  },
  "language_info": {
   "codemirror_mode": {
    "name": "ipython",
    "version": 3
   },
   "file_extension": ".py",
   "mimetype": "text/x-python",
   "name": "python",
   "nbconvert_exporter": "python",
   "pygments_lexer": "ipython3",
   "version": "3.9.13-final"
  },
  "orig_nbformat": 4,
  "vscode": {
   "interpreter": {
    "hash": "aee8b7b246df8f9039afb4144a1f6fd8d2ca17a180786b69acc140d282b71a49"
   }
  }
 },
 "nbformat": 4,
 "nbformat_minor": 2
}
